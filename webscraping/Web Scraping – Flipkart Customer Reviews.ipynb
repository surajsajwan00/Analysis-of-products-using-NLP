{
 "cells": [
  {
   "cell_type": "code",
   "execution_count": 1,
   "id": "cd4dd1a9",
   "metadata": {},
   "outputs": [
    {
     "data": {
      "text/plain": [
       "['View 4 more offers',\n",
       " 'DeliveryCheckEnter pincodeUsually delivered in4 days?Enter pincode for exact delivery dates/chargesView Details',\n",
       " '4.3★20,363 Ratings &1,493 Reviews5★4★3★2★1★13,2113,8141,4426061,2903.9Camera4.1Battery4.2Display4.0Desig',\n",
       " '4.3★20,363 Ratings &1,493 Reviews5★4★3★2★1★13,2113,8141,4426061,290',\n",
       " '4.3★',\n",
       " '20,363 Ratings &',\n",
       " '1,493 Reviews',\n",
       " '3.9Camera4.1Battery4.2Display4.0Desig',\n",
       " '+ 196',\n",
       " '5Best in the market!',\n",
       " 'Back side look like a glass shine . Both side camera amazing and some more funtion in side or camera.Over all good and amazing for OPPO F19READ MORE',\n",
       " 'Rajender kumarCertified Buyer, New DelhiAug, 20213229759PermalinkReport Abuse',\n",
       " 'Rajender kumarCertified Buyer, New DelhiAug, 2021',\n",
       " '3229759PermalinkReport Abuse',\n",
       " '4Nice product',\n",
       " 'Good purchaseBright display best in classCamera is average but serves purposeTouch response is good aBest part is quick charge & battery last one & half day for regular use.Overall like itREAD MORE',\n",
       " 'Mahesh  KultheCertified Buyer, NashikJun, 20211323318PermalinkReport Abuse',\n",
       " 'Mahesh  KultheCertified Buyer, NashikJun, 2021',\n",
       " '1323318PermalinkReport Abuse',\n",
       " '5Fabulous!',\n",
       " \"Best phone in this price range..I got this at a great price  after discount and exchange..and it's a steal deal..display,battery life and voice quality is too good..camera should have been better .but its good overall ...READ MORE\",\n",
       " 'Mudassir AshrafCertified Buyer, KolkataAug, 2021796353PermalinkReport Abuse',\n",
       " 'Mudassir AshrafCertified Buyer, KolkataAug, 2021',\n",
       " '796353PermalinkReport Abuse',\n",
       " '5Terrific',\n",
       " 'Mobile is very good Camera is also lovely  osm Performance is  v good Disply is osm Thanks Flipcart for giving a good phone....💖READ MORE',\n",
       " 'Priyanshu  Singh Rajput Certified Buyer, PurniaOct, 2021366PermalinkReport Abuse',\n",
       " 'Priyanshu  Singh Rajput Certified Buyer, PurniaOct, 2021',\n",
       " '366PermalinkReport Abuse',\n",
       " '5Must buy!',\n",
       " 'Phone is very very good camera quality best and all accessories is available in box I am happy with this phone 😊🥳READ MORE',\n",
       " 'Flipkart CustomerCertified Buyer, Shahjahanpur1month ago6614PermalinkReport Abuse',\n",
       " 'Flipkart CustomerCertified Buyer, Shahjahanpur1month ago',\n",
       " '6614PermalinkReport Abuse',\n",
       " '5Best in the market!',\n",
       " 'Very nice phone awansome battery camera quality is good overall good nice phoneREAD MORE',\n",
       " 'Flipkart CustomerCertified Buyer, Azamgarh1month ago20PermalinkReport Abuse',\n",
       " 'Flipkart CustomerCertified Buyer, Azamgarh1month ago',\n",
       " '20PermalinkReport Abuse',\n",
       " '4Very Good',\n",
       " 'Camara performance soo goodREAD MORE',\n",
       " 'Pavan KumarCertified Buyer, AnantapurSep, 20212682320PermalinkReport Abuse',\n",
       " 'Pavan KumarCertified Buyer, AnantapurSep, 2021',\n",
       " '2682320PermalinkReport Abuse',\n",
       " '5Perfect product!',\n",
       " 'Nice cam qualityBuy it🔥READ MORE',\n",
       " 'Chintapalli SriramCertified Buyer, Rajahmundry3months ago522PermalinkReport Abuse',\n",
       " 'Chintapalli SriramCertified Buyer, Rajahmundry3months ago',\n",
       " '522PermalinkReport Abuse',\n",
       " '5Fabulous!',\n",
       " 'GoodREAD MORE',\n",
       " 'sonu mauryaCertified Buyer, VaranasiAug, 202158375PermalinkReport Abuse',\n",
       " 'sonu mauryaCertified Buyer, VaranasiAug, 2021',\n",
       " '58375PermalinkReport Abuse',\n",
       " '5Simply awesome',\n",
       " 'Image very niceREAD MORE',\n",
       " 'Flipkart CustomerCertified Buyer, Gaya DistrictJul, 202164786PermalinkReport Abuse',\n",
       " 'Flipkart CustomerCertified Buyer, Gaya DistrictJul, 2021',\n",
       " '64786PermalinkReport Abuse',\n",
       " 'Questions and Answers',\n",
       " 'Smart GlassesMin. 40% OffShop Now',\n",
       " 'Wired EarphonesMin. 50% OffShop Now',\n",
       " 'Wired HeadphonesMin. 50% OffShop Now',\n",
       " 'Pen DrivesMin. 50% OffShop Now',\n",
       " '',\n",
       " 'Top Stories:Brand DirectoryMOST SEARCHED IN Mobiles & Accessories:IPAD AIR 2 PRICE5 SGIONEE 5.1 PRICE IN INDIAHTC DESIRE 826 PRICESONY MINI LAPTOPLIFE OKXIAOMI MI POWER BANKMI4MICROMAX A 102KNIGHT 2MICROMAX CANVAS KNIGHT 2NOKIA LUMIA 535 PRICE IN INDIASAMSUNG BASIC MOBILEMI 1SNOTE 3 SPECIFICATIONGALAXY S3SAMSUNG STAR 2 PRICESAMSUNG METRO 312 PRICESONY Z1IPHONE 6S PRICEANDROID MOBILEREDMI PHONESAMSUNG BASIC PHONESBEST 4G MOBILE UNDER 20000MOTO ZPANASONIC P31SAMSUNG TAB 3 NEOSONY M4 PRICESONY Z1 COMPACT',\n",
       " 'ABOUTContact UsAbout UsCareersFlipkart StoriesPressFlipkart WholesaleCorporate InformationHELPPaymentsShippingCancellation & ReturnsFAQReport InfringementPOLICYReturn PolicyTerms Of UseSecurityPrivacySitemapEPR ComplianceSOCIALFacebookTwitterYouTubeMail Us:Flipkart Internet Private Limited, \\n Buildings Alyssa, Begonia & \\n Clove Embassy Tech Village, \\n Outer Ring Road, Devarabeesanahalli Village, \\n Bengaluru, 560103, \\n Karnataka, India\\nRegistered Office Address:Flipkart Internet Private Limited, \\n Buildings Alyssa, Begonia & \\n Clove Embassy Tech Village, \\n Outer Ring Road, Devarabeesanahalli Village, \\n Bengaluru, 560103, \\n Karnataka, India \\n CIN : U51109KA2012PTC066107 \\n Telephone: 044-45614700\\n']"
      ]
     },
     "execution_count": 1,
     "metadata": {},
     "output_type": "execute_result"
    }
   ],
   "source": [
    "from bs4 import BeautifulSoup as bs\n",
    "import requests\n",
    "link='https://www.flipkart.com/oppo-f19-prism-black-128-gb/p/itm82f60569dc6db?pid=MOBGFGWNUZXAM7QY&lid=LSTMOBGFGWNUZXAM7QYB6Z1TY&marketplace=FLIPKART&fm=neo%2Fmerchandising&iid=M_71666a7f-26d5-4400-9252-6a884137dea9_2_T4AX2RRLV1_MC.MOBGFGWNUZXAM7QY&ppt=pp&ppn=pp&ssid=93zh3njyo00000001670088345217&otracker=clp_pmu_v2_Oppo%2BMobiles%2Bunder%2B%25E2%2582%25B915K_5_2.productCard.PMU_V2_OPPO%2BF19%2B%2528Prism%2BBlack%252C%2B128%2BGB%2529_oppo-mobile-phones-store_MOBGFGWNUZXAM7QY_neo%2Fmerchandising_4&otracker1=clp_pmu_v2_PINNED_neo%2Fmerchandising_Oppo%2BMobiles%2Bunder%2B%25E2%2582%25B915K_LIST_productCard_cc_5_NA_view-all&cid=MOBGFGWNUZXAM7QY'\n",
    "page=requests.get(link)\n",
    "soup= bs(page.content,\"html.parser\")\n",
    "review=soup.find_all(\"div\",class_=\"row\")\n",
    "review_content=[]\n",
    "for i in range(0,len(review)):\n",
    "    review_content.append(review[i].get_text())\n",
    "review_content\n",
    "review_content[:] = [reviews.lstrip('/n') for reviews in review_content]\n",
    "review_content[:] = [reviews.rstrip('/n') for reviews in review_content]\n",
    "review_content"
   ]
  },
  {
   "cell_type": "code",
   "execution_count": null,
   "id": "4f92f85e",
   "metadata": {},
   "outputs": [],
   "source": []
  },
  {
   "cell_type": "code",
   "execution_count": null,
   "id": "b4d43fdd",
   "metadata": {},
   "outputs": [],
   "source": []
  }
 ],
 "metadata": {
  "kernelspec": {
   "display_name": "Python 3 (ipykernel)",
   "language": "python",
   "name": "python3"
  },
  "language_info": {
   "codemirror_mode": {
    "name": "ipython",
    "version": 3
   },
   "file_extension": ".py",
   "mimetype": "text/x-python",
   "name": "python",
   "nbconvert_exporter": "python",
   "pygments_lexer": "ipython3",
   "version": "3.9.7"
  }
 },
 "nbformat": 4,
 "nbformat_minor": 5
}
