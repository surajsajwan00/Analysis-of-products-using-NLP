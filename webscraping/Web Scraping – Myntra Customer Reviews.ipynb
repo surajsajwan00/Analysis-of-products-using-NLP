{
 "cells": [
  {
   "cell_type": "code",
   "execution_count": null,
   "id": "af5f9fe1",
   "metadata": {},
   "outputs": [],
   "source": [
    "from bs4 import BeautifulSoup as bs\n",
    "import requests\n",
    "link='https://www.myntra.com/jumpsuit/sassafras/sassafras-off-white--black-animal-print-satin-playsuit/14087622/buy'\n",
    "page=requests.get(link)\n",
    "soup= bs(page.content,\"html.parser\")\n",
    "review=soup.find_all(\"div\",class_=\"user-review-main user-review-showRating\")\n",
    "#user-review-reviewTextWrapper\n",
    "review_content=[]\n",
    "for i in range(0,len(review)):\n",
    "    review_content.append(review[i].get_text())\n",
    "review_content\n",
    "review_content[:] = [reviews.lstrip('/n') for reviews in review_content]\n",
    "review_content[:] = [reviews.rstrip('/n') for reviews in review_content]\n",
    "review_content"
   ]
  },
  {
   "cell_type": "code",
   "execution_count": null,
   "id": "6a9248d7",
   "metadata": {},
   "outputs": [],
   "source": []
  }
 ],
 "metadata": {
  "kernelspec": {
   "display_name": "Python 3 (ipykernel)",
   "language": "python",
   "name": "python3"
  },
  "language_info": {
   "codemirror_mode": {
    "name": "ipython",
    "version": 3
   },
   "file_extension": ".py",
   "mimetype": "text/x-python",
   "name": "python",
   "nbconvert_exporter": "python",
   "pygments_lexer": "ipython3",
   "version": "3.9.7"
  }
 },
 "nbformat": 4,
 "nbformat_minor": 5
}
